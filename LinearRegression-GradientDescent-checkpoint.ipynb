{
 "cells": [
  {
   "cell_type": "markdown",
   "metadata": {},
   "source": [
    "# Linear Regression"
   ]
  },
  {
   "cell_type": "markdown",
   "metadata": {},
   "source": [
    "### Alternatives to Gradient Descent for optimizing\n",
    "1. Linear Search on each feature. Optimizing one-at-a-time doesnt mean optimizing the pair. (very bad)\n",
    "2. Binary search on each feature. Need to decide the range first. (bad)\n",
    "3. RANDOM Search (Good to avoid Local Minima)\n",
    "4. Hybrid Search. Powers of 10. (Bad)"
   ]
  },
  {
   "cell_type": "markdown",
   "metadata": {},
   "source": [
    "### Types of Gradient descent\n",
    "1. Gradient descent (cover all data points before taking each step)\n",
    "2. Stochastic Gradient descent (check only 1 data point before taking each step)\n",
    "3. Mini Batch Gradient descent (check a sample of 128 random data points before taking each step)"
   ]
  },
  {
   "cell_type": "code",
   "execution_count": 1,
   "metadata": {},
   "outputs": [],
   "source": [
    "import numpy as np\n",
    "import matplotlib.pyplot as plt\n",
    "%matplotlib inline\n",
    "from sklearn.datasets import make_regression"
   ]
  },
  {
   "cell_type": "code",
   "execution_count": 2,
   "metadata": {},
   "outputs": [
    {
     "name": "stdout",
     "output_type": "stream",
     "text": [
      "(500, 1) (500,)\n"
     ]
    },
    {
     "data": {
      "image/png": "[encoded data removed]",
      "text/plain": [
       "<Figure size 432x288 with 1 Axes>"
      ]
     },
     "metadata": {
      "needs_background": "light"
     },
     "output_type": "display_data"
    }
   ],
   "source": [
    "X, y = make_regression(n_samples=500, n_features=1, bias=4.2, noise=15)  # bias = 4.2, noise=5.1\n",
    "print(X.shape, y.shape)\n",
    "\n",
    "plt.plot(X, y, '.') # Can be plotted only if n_features = 1\n",
    "plt.show()"
   ]
  },
  {
   "cell_type": "code",
   "execution_count": 3,
   "metadata": {},
   "outputs": [
    {
     "name": "stdout",
     "output_type": "stream",
     "text": [
      "400\n",
      "(400, 1)\n",
      "(100, 1)\n",
      "(100,)\n"
     ]
    }
   ],
   "source": [
    "split = int(0.8*X.shape[0])\n",
    "print(split)\n",
    "\n",
    "X_train = X[:split]\n",
    "X_test = X[split:]\n",
    "\n",
    "y_train = y[:split]\n",
    "y_test = y[split:]\n",
    "\n",
    "print(X_train.shape)\n",
    "print(X_test.shape)\n",
    "\n",
    "print(y_test.shape)"
   ]
  },
  {
   "cell_type": "code",
   "execution_count": null,
   "metadata": {},
   "outputs": [],
   "source": []
  },
  {
   "cell_type": "markdown",
   "metadata": {},
   "source": [
    "### Common functions"
   ]
  },
  {
   "cell_type": "code",
   "execution_count": 4,
   "metadata": {},
   "outputs": [],
   "source": [
    "def hypothesis(x,w):\n",
    "    x0 = 1\n",
    "    return w[0]*x0 + w[1]*x"
   ]
  },
  {
   "cell_type": "code",
   "execution_count": 5,
   "metadata": {},
   "outputs": [],
   "source": [
    "def get_error(x,w, y_true):\n",
    "    err = 0.0\n",
    "    m = x.shape[0]\n",
    "    \n",
    "    for ix in range(m):\n",
    "        err += (y_true[ix] - hypothesis(x[ix], w))**2\n",
    "        \n",
    "    err = err/2*m\n",
    "    return err"
   ]
  },
  {
   "cell_type": "code",
   "execution_count": null,
   "metadata": {},
   "outputs": [],
   "source": []
  },
  {
   "cell_type": "markdown",
   "metadata": {},
   "source": [
    "## Gradient Descent"
   ]
  },
  {
   "cell_type": "code",
   "execution_count": 6,
   "metadata": {},
   "outputs": [],
   "source": [
    "def get_grad(x,w,y_true):\n",
    "    grad_0 = 0.0\n",
    "    grad_1 = 0.0\n",
    "    \n",
    "    m = x.shape[0]\n",
    "    \n",
    "    for ix in range(m):\n",
    "        grad_0 += (y_true[ix] - hypothesis(x[ix], w))*(-1)\n",
    "        grad_1 += (y_true[ix] - hypothesis(x[ix], w))*(-1*x[ix])\n",
    "        \n",
    "    grad_0 = grad_0/m\n",
    "    grad_1 = grad_1/m\n",
    "    \n",
    "    return [grad_0, grad_1]\n"
   ]
  },
  {
   "cell_type": "code",
   "execution_count": 7,
   "metadata": {},
   "outputs": [],
   "source": [
    "def gradient_descent(x,w,y_true, learning_rate=0.1):\n",
    "    error = get_error(x,w, y_true)\n",
    "    \n",
    "    [grad_0, grad_1] = get_grad(x, w, y_true)\n",
    "    \n",
    "    w[0] = w[0] - learning_rate*grad_0\n",
    "    w[1] = w[1] - learning_rate*grad_1\n",
    "    \n",
    "    return error, w"
   ]
  },
  {
   "cell_type": "code",
   "execution_count": 8,
   "metadata": {},
   "outputs": [
    {
     "name": "stdout",
     "output_type": "stream",
     "text": [
      "W[0] should be equal to the bias we prvided while generating data\n",
      "[ 5.4238932  39.11544155]\n"
     ]
    }
   ],
   "source": [
    "W = np.array([0.1, 0.1])\n",
    "loss = []\n",
    "\n",
    "for ix in range(400): #400\n",
    "    er, W = gradient_descent(X_train, W, y_train, learning_rate=0.01)\n",
    "    loss.append(er)\n",
    "\n",
    "print('W[0] should be very close to the bias we prvided while generating data')\n",
    "print(W)"
   ]
  },
  {
   "cell_type": "markdown",
   "metadata": {},
   "source": [
    "#### W[0] should be very close to the bias we prvided while generating data"
   ]
  },
  {
   "cell_type": "code",
   "execution_count": null,
   "metadata": {},
   "outputs": [],
   "source": []
  },
  {
   "cell_type": "code",
   "execution_count": 9,
   "metadata": {},
   "outputs": [
    {
     "data": {
      "image/png": "[encoded data removed]",
      "text/plain": [
       "<Figure size 432x288 with 1 Axes>"
      ]
     },
     "metadata": {
      "needs_background": "light"
     },
     "output_type": "display_data"
    },
    {
     "name": "stdout",
     "output_type": "stream",
     "text": [
      "[19285601.75190488]\n"
     ]
    }
   ],
   "source": [
    "plt.plot(loss)\n",
    "plt.show()\n",
    "\n",
    "print(loss[-1])"
   ]
  },
  {
   "cell_type": "code",
   "execution_count": null,
   "metadata": {},
   "outputs": [],
   "source": []
  },
  {
   "cell_type": "code",
   "execution_count": null,
   "metadata": {},
   "outputs": [],
   "source": []
  },
  {
   "cell_type": "markdown",
   "metadata": {},
   "source": [
    "## Stochastic Gradient Descent"
   ]
  },
  {
   "cell_type": "code",
   "execution_count": 10,
   "metadata": {},
   "outputs": [],
   "source": [
    "def get_stochastic_grad(x_sample,w,y_true):\n",
    "    \n",
    "    grad_0 = 0.0\n",
    "    grad_1 = 0.0\n",
    "    \n",
    "    grad_0 = (y_true - hypothesis(x_sample, w))*(-1)\n",
    "    grad_1 = (y_true - hypothesis(x_sample, w))*(-1*x_sample)\n",
    "    \n",
    "    return [grad_0, grad_1]"
   ]
  },
  {
   "cell_type": "code",
   "execution_count": null,
   "metadata": {},
   "outputs": [],
   "source": []
  },
  {
   "cell_type": "code",
   "execution_count": 11,
   "metadata": {},
   "outputs": [],
   "source": [
    "'''\n",
    "def stochastic_gradient_descent(x, w, y_true, learning_rate=0.1):\n",
    "    error = get_error(x, w, y_true)\n",
    "    \n",
    "    for ix in range(x.shape[0]):\n",
    "        [grad_0, grad_1] = get_stochastic_grad(x[ix], w, y_true[ix])\n",
    "        \n",
    "        w[0] = w[0] - learning_rate*grad_0\n",
    "        w[1] = w[1] - learning_rate*grad_1\n",
    "    \n",
    "    return error, w\n",
    "'''\n",
    "\n",
    "\n",
    "def stochastic_gradient_descent(x, w, y_true, loss, learning_rate=0.1):\n",
    "    for ix in range(x.shape[0]):\n",
    "        [grad_0, grad_1] = get_stochastic_grad(x[ix], w, y_true[ix])\n",
    "        \n",
    "        w[0] = w[0] - learning_rate*grad_0\n",
    "        w[1] = w[1] - learning_rate*grad_1\n",
    "        \n",
    "        error = get_error(x, w, y_true)\n",
    "        loss.append(error)\n",
    "    \n",
    "    return error, w"
   ]
  },
  {
   "cell_type": "code",
   "execution_count": 12,
   "metadata": {},
   "outputs": [
    {
     "name": "stdout",
     "output_type": "stream",
     "text": [
      "[ 8.7104594  41.07559401]\n"
     ]
    }
   ],
   "source": [
    "W = np.array([0.1, 0.1])\n",
    "loss = []\n",
    "error, W = stochastic_gradient_descent(X_train, W, y_train, loss)\n",
    "\n",
    "print(W)"
   ]
  },
  {
   "cell_type": "code",
   "execution_count": 13,
   "metadata": {},
   "outputs": [
    {
     "data": {
      "image/png": "[encoded data removed]",
      "text/plain": [
       "<Figure size 432x288 with 1 Axes>"
      ]
     },
     "metadata": {
      "needs_background": "light"
     },
     "output_type": "display_data"
    },
    {
     "name": "stdout",
     "output_type": "stream",
     "text": [
      "[20365009.98055601]\n"
     ]
    }
   ],
   "source": [
    "plt.plot(loss)\n",
    "plt.show()\n",
    "\n",
    "print(loss[-1])"
   ]
  },
  {
   "cell_type": "code",
   "execution_count": null,
   "metadata": {},
   "outputs": [],
   "source": []
  },
  {
   "cell_type": "code",
   "execution_count": null,
   "metadata": {},
   "outputs": [],
   "source": []
  },
  {
   "cell_type": "code",
   "execution_count": null,
   "metadata": {},
   "outputs": [],
   "source": []
  },
  {
   "cell_type": "markdown",
   "metadata": {},
   "source": [
    "# SK Learn"
   ]
  },
  {
   "cell_type": "code",
   "execution_count": 14,
   "metadata": {},
   "outputs": [],
   "source": [
    "from sklearn.linear_model import LinearRegression"
   ]
  },
  {
   "cell_type": "code",
   "execution_count": 15,
   "metadata": {},
   "outputs": [
    {
     "name": "stderr",
     "output_type": "stream",
     "text": [
      "/Library/Frameworks/Python.framework/Versions/3.6/lib/python3.6/site-packages/sklearn/linear_model/base.py:509: RuntimeWarning: internal gelsd driver lwork query error, required iwork dimension not returned. This is likely the result of LAPACK bug 0038, fixed in LAPACK 3.2.2 (released July 21, 2010). Falling back to 'gelss' driver.\n",
      "  linalg.lstsq(X, y)\n"
     ]
    },
    {
     "data": {
      "text/plain": [
       "LinearRegression(copy_X=True, fit_intercept=True, n_jobs=1, normalize=False)"
      ]
     },
     "execution_count": 15,
     "metadata": {},
     "output_type": "execute_result"
    }
   ],
   "source": [
    "lr = LinearRegression()\n",
    "lr.fit(X_train, y_train)"
   ]
  },
  {
   "cell_type": "code",
   "execution_count": 16,
   "metadata": {},
   "outputs": [
    {
     "data": {
      "text/plain": [
       "0.8648797992670582"
      ]
     },
     "execution_count": 16,
     "metadata": {},
     "output_type": "execute_result"
    }
   ],
   "source": [
    "lr.score(X_test, y_test)"
   ]
  },
  {
   "cell_type": "code",
   "execution_count": null,
   "metadata": {},
   "outputs": [],
   "source": []
  }
 ],
 "metadata": {
  "kernelspec": {
   "display_name": "Python 3",
   "language": "python",
   "name": "python3"
  },
  "language_info": {
   "codemirror_mode": {
    "name": "ipython",
    "version": 3
   },
   "file_extension": ".py",
   "mimetype": "text/x-python",
   "name": "python",
   "nbconvert_exporter": "python",
   "pygments_lexer": "ipython3",
   "version": "3.7.4"
  }
 },
 "nbformat": 4,
 "nbformat_minor": 2
}
