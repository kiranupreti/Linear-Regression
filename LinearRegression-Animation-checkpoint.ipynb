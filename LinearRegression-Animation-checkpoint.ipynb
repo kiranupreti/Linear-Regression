{
 "cells": [
  {
   "cell_type": "markdown",
   "metadata": {},
   "source": [
    "# Linear Regression - Animation"
   ]
  },
  {
   "cell_type": "code",
   "execution_count": 1,
   "metadata": {},
   "outputs": [],
   "source": [
    "import numpy as np\n",
    "import matplotlib.pyplot as plt\n",
    "%matplotlib notebook\n",
    "from sklearn.datasets import make_regression"
   ]
  },
  {
   "cell_type": "code",
   "execution_count": 2,
   "metadata": {},
   "outputs": [
    {
     "name": "stdout",
     "output_type": "stream",
     "text": [
      "(500, 1) (500,)\n"
     ]
    }
   ],
   "source": [
    "X, y = make_regression(n_samples=500, n_features=1, bias=4.2, noise=5.5)\n",
    "print(X.shape, y.shape)\n",
    "\n",
    "# plt.plot(X, y, '.') # Can be plotted only if n_features = 1\n",
    "# plt.show()"
   ]
  },
  {
   "cell_type": "code",
   "execution_count": 3,
   "metadata": {},
   "outputs": [
    {
     "name": "stdout",
     "output_type": "stream",
     "text": [
      "400\n",
      "(400, 1)\n",
      "(100, 1)\n",
      "(100,)\n"
     ]
    }
   ],
   "source": [
    "split = int(0.8*X.shape[0])\n",
    "print(split)\n",
    "\n",
    "X_train = X[:split]\n",
    "X_test = X[split:]\n",
    "\n",
    "y_train = y[:split]\n",
    "y_test = y[split:]\n",
    "\n",
    "print(X_train.shape)\n",
    "print(X_test.shape)\n",
    "\n",
    "print(y_test.shape)"
   ]
  },
  {
   "cell_type": "code",
   "execution_count": 4,
   "metadata": {},
   "outputs": [],
   "source": [
    "## Methods we need to write\n",
    "def hypothesis(x,w):\n",
    "    x0 = 1\n",
    "    return w[0]*x0 + w[1]*x\n",
    "\n",
    "def get_error(x,w, y_true):\n",
    "    err = 0.0\n",
    "    m = x.shape[0]\n",
    "    \n",
    "    for ix in range(m):\n",
    "        err += (y_true[ix] - hypothesis(x[ix], w))**2\n",
    "        \n",
    "    err = err/2*m\n",
    "    return err\n"
   ]
  },
  {
   "cell_type": "code",
   "execution_count": 5,
   "metadata": {},
   "outputs": [],
   "source": [
    "def get_grad(x,w,y_true):\n",
    "    grad_0 = 0.0\n",
    "    grad_1 = 0.0\n",
    "    \n",
    "    m = x.shape[0]\n",
    "    \n",
    "    for ix in range(m):\n",
    "        grad_0 += (y_true[ix] - hypothesis(x[ix], w))*(-1)\n",
    "        grad_1 += (y_true[ix] - hypothesis(x[ix], w))*(-1*x[ix])\n",
    "        \n",
    "    grad_0 = grad_0/m\n",
    "    grad_1 = grad_1/m\n",
    "    \n",
    "    return [grad_0, grad_1]"
   ]
  },
  {
   "cell_type": "code",
   "execution_count": 6,
   "metadata": {},
   "outputs": [],
   "source": [
    "def gradient_descent(x,w,y_true, learning_rate=0.1):\n",
    "    error = get_error(x,w, y_true)\n",
    "    \n",
    "    [grad_0, grad_1] = get_grad(x, w, y_true)\n",
    "    \n",
    "    w[0] = w[0] - learning_rate*grad_0\n",
    "    w[1] = w[1] - learning_rate*grad_1\n",
    "    \n",
    "    return error, w"
   ]
  },
  {
   "cell_type": "code",
   "execution_count": 10,
   "metadata": {},
   "outputs": [
    {
     "name": "stderr",
     "output_type": "stream",
     "text": [
      "C:\\Users\\KAILASH\\Anaconda3\\lib\\site-packages\\ipykernel_launcher.py:6: UserWarning: Matplotlib is currently using module://ipykernel.pylab.backend_inline, which is a non-GUI backend, so cannot show the figure.\n",
      "  \n"
     ]
    },
    {
     "data": {
      "image/png": "[encoded data removed]",
      "text/plain": [
       "<Figure size 432x288 with 1 Axes>"
      ]
     },
     "metadata": {
      "needs_background": "light"
     },
     "output_type": "display_data"
    }
   ],
   "source": [
    "import time\n",
    "\n",
    "fig = plt.figure()\n",
    "ax = fig.add_subplot(111)\n",
    "plt.ion()\n",
    "fig.show()\n",
    "fig.canvas.draw()\n",
    "\n",
    "def show(W):   \n",
    "    print('*', end=' ')\n",
    "    ax.clear()\n",
    "\n",
    "    # Plot a line from slope and intercept\n",
    "    \n",
    "    slope = W[1]\n",
    "    intercept = W[0]\n",
    "    \n",
    "    ax.set_xlim([-3, 3])\n",
    "    ax.set_ylim([-300, 300])\n",
    "    axes = plt.gca()\n",
    "    x_vals = np.array(axes.get_xlim())\n",
    "    y_vals = intercept + slope * x_vals\n",
    "    ax.plot(x_vals, y_vals)\n",
    "    \n",
    "    # Plot all points\n",
    "    ax.plot(X_train, y_train, '.')\n",
    "    #ax.plot(X_test, y_test, '.')\n",
    "    \n",
    "    fig.canvas.draw()\n",
    "    \n",
    "    #time.sleep(0.5)"
   ]
  },
  {
   "cell_type": "code",
   "execution_count": 8,
   "metadata": {},
   "outputs": [
    {
     "name": "stdout",
     "output_type": "stream",
     "text": [
      "* * * * * * * * * * * * * * * * * * * * * * * * * * * * * * * * * * * * * * * * * * * * * * * * * * * * * * * * * * * * * * * * * * * * * * * * * * * * * * * * * * * * * * * * * * * * * * * * * * * * * * * * * * * * * * * * * * * * * * * * * * * * * * * * * * * * * * * * * * * * * * * * * * * * * * * * * * * * * * * * * * * * * * * * * * * * * * * * * * * * * * * * * * * * * * * * * * * * * * * * * * * * * * * * * * * * * * * * * * * * * * * * * * * * * * * * * * * * * * * * * * * * * * * * * * * * * * * * * * * * * * * * * * * * * * * * * * * * * * * * * * * * * * * * * * * * * * * * * * * * * * * * * * * * * * * * * * * * * * * * * * * * * * * * * * * * * * * * * * * * * * * * * * * * * * * * * * * * * * * * * * * * * * * * * * * * * * * * * * * * * * * * * * * * * * * * * * * * * * * * [ 4.7440871  25.83649304]\n"
     ]
    },
    {
     "data": {
      "image/png": "[encoded data removed]",
      "text/plain": [
       "<Figure size 432x288 with 1 Axes>"
      ]
     },
     "metadata": {
      "needs_background": "light"
     },
     "output_type": "display_data"
    }
   ],
   "source": [
    "W = np.array([0.1, 0.1])\n",
    "loss = []\n",
    "\n",
    "for ix in range(400): #400\n",
    "    er, W = gradient_descent(X_train, W, y_train, learning_rate=0.01)\n",
    "    show(W)\n",
    "    loss.append(er)\n",
    "    \n",
    "print(W)"
   ]
  },
  {
   "cell_type": "code",
   "execution_count": 9,
   "metadata": {},
   "outputs": [
    {
     "name": "stdout",
     "output_type": "stream",
     "text": [
      "[1955375.0154904]\n"
     ]
    }
   ],
   "source": [
    "# plt.plot(loss)\n",
    "# plt.show()\n",
    "\n",
    "print(loss[-1])"
   ]
  },
  {
   "cell_type": "code",
   "execution_count": null,
   "metadata": {},
   "outputs": [],
   "source": []
  },
  {
   "cell_type": "code",
   "execution_count": null,
   "metadata": {},
   "outputs": [],
   "source": []
  },
  {
   "cell_type": "code",
   "execution_count": null,
   "metadata": {},
   "outputs": [],
   "source": []
  },
  {
   "cell_type": "code",
   "execution_count": null,
   "metadata": {},
   "outputs": [],
   "source": []
  }
 ],
 "metadata": {
  "kernelspec": {
   "display_name": "Python 3",
   "language": "python",
   "name": "python3"
  },
  "language_info": {
   "codemirror_mode": {
    "name": "ipython",
    "version": 3
   },
   "file_extension": ".py",
   "mimetype": "text/x-python",
   "name": "python",
   "nbconvert_exporter": "python",
   "pygments_lexer": "ipython3",
   "version": "3.7.4"
  }
 },
 "nbformat": 4,
 "nbformat_minor": 2
}
